{
 "cells": [
  {
   "cell_type": "code",
   "execution_count": 1,
   "metadata": {},
   "outputs": [
    {
     "name": "stdout",
     "output_type": "stream",
     "text": [
      "✅ 読込成功: ..\\src\\iMaPP_database-2024-12-2.xlsx\n"
     ]
    }
   ],
   "source": [
    "import pandas as pd\n",
    "import os\n",
    "import glob\n",
    "\n",
    "# ファイル探索（../src/ フォルダ内）\n",
    "file_pattern = os.path.join('..', 'src', 'iMaPP_database*.xlsx')\n",
    "matched_files = glob.glob(file_pattern)\n",
    "\n",
    "if matched_files:\n",
    "    file_path = matched_files[0]\n",
    "    df_mapp_t = pd.read_excel(file_path, sheet_name='MaPP_T')\n",
    "    print(f\"✅ 読込成功: {file_path}\")\n",
    "else:\n",
    "    raise FileNotFoundError(\"❌ 該当ファイルが見つかりませんでした。\")\n"
   ]
  },
  {
   "cell_type": "code",
   "execution_count": 2,
   "metadata": {},
   "outputs": [],
   "source": [
    "# 欠損値をすべて0で埋める\n",
    "df_mapp_t = df_mapp_t.fillna(0)\n"
   ]
  },
  {
   "cell_type": "code",
   "execution_count": 11,
   "metadata": {},
   "outputs": [
    {
     "data": {
      "text/html": [
       "<div>\n",
       "<style scoped>\n",
       "    .dataframe tbody tr th:only-of-type {\n",
       "        vertical-align: middle;\n",
       "    }\n",
       "\n",
       "    .dataframe tbody tr th {\n",
       "        vertical-align: top;\n",
       "    }\n",
       "\n",
       "    .dataframe thead th {\n",
       "        text-align: right;\n",
       "    }\n",
       "</style>\n",
       "<table border=\"1\" class=\"dataframe\">\n",
       "  <thead>\n",
       "    <tr style=\"text-align: right;\">\n",
       "      <th></th>\n",
       "      <th>iso2</th>\n",
       "      <th>Year</th>\n",
       "      <th>Month</th>\n",
       "      <th>MaPP_Tool</th>\n",
       "      <th>Subcategory</th>\n",
       "      <th>OBS_Tightening</th>\n",
       "    </tr>\n",
       "  </thead>\n",
       "  <tbody>\n",
       "    <tr>\n",
       "      <th>0</th>\n",
       "      <td>AL</td>\n",
       "      <td>1990</td>\n",
       "      <td>1</td>\n",
       "      <td>CCB</td>\n",
       "      <td>None</td>\n",
       "      <td>0.0</td>\n",
       "    </tr>\n",
       "    <tr>\n",
       "      <th>1</th>\n",
       "      <td>AL</td>\n",
       "      <td>1990</td>\n",
       "      <td>2</td>\n",
       "      <td>CCB</td>\n",
       "      <td>None</td>\n",
       "      <td>0.0</td>\n",
       "    </tr>\n",
       "    <tr>\n",
       "      <th>2</th>\n",
       "      <td>AL</td>\n",
       "      <td>1990</td>\n",
       "      <td>3</td>\n",
       "      <td>CCB</td>\n",
       "      <td>None</td>\n",
       "      <td>0.0</td>\n",
       "    </tr>\n",
       "    <tr>\n",
       "      <th>3</th>\n",
       "      <td>AL</td>\n",
       "      <td>1990</td>\n",
       "      <td>4</td>\n",
       "      <td>CCB</td>\n",
       "      <td>None</td>\n",
       "      <td>0.0</td>\n",
       "    </tr>\n",
       "    <tr>\n",
       "      <th>4</th>\n",
       "      <td>AL</td>\n",
       "      <td>1990</td>\n",
       "      <td>5</td>\n",
       "      <td>CCB</td>\n",
       "      <td>None</td>\n",
       "      <td>0.0</td>\n",
       "    </tr>\n",
       "  </tbody>\n",
       "</table>\n",
       "</div>"
      ],
      "text/plain": [
       "  iso2  Year  Month MaPP_Tool Subcategory  OBS_Tightening\n",
       "0   AL  1990      1       CCB        None             0.0\n",
       "1   AL  1990      2       CCB        None             0.0\n",
       "2   AL  1990      3       CCB        None             0.0\n",
       "3   AL  1990      4       CCB        None             0.0\n",
       "4   AL  1990      5       CCB        None             0.0"
      ]
     },
     "execution_count": 11,
     "metadata": {},
     "output_type": "execute_result"
    }
   ],
   "source": [
    "# サブカテゴリに該当しない主要ツールのみ抽出（_Tで終わるが、_HH_Tなどではなく、かつ SUM_17_T でもない）\n",
    "main_tool_cols = [\n",
    "    col for col in df_mapp_t.columns \n",
    "    if col.endswith('_T') \n",
    "    and not any(suffix in col for suffix in ['_HH_T', '_Corp_T', '_Gen_T', '_FX_T', '_FCD_T']) \n",
    "    and col != 'SUM_17_T'\n",
    "]\n",
    "\n",
    "# ロング形式に変換\n",
    "df_main_long = df_mapp_t.melt(\n",
    "    id_vars=['iso2', 'Year', 'Month'],\n",
    "    value_vars=main_tool_cols,\n",
    "    var_name='MaPP_Tool_Full',\n",
    "    value_name='OBS_Tightening'\n",
    ")\n",
    "\n",
    "# ツール名のみ抽出（_Tを除去）\n",
    "df_main_long['MaPP_Tool'] = df_main_long['MaPP_Tool_Full'].str.replace('_T', '', regex=False)\n",
    "df_main_long['Subcategory'] = None\n",
    "\n",
    "# 最終整形\n",
    "df_main_tools = df_main_long[['iso2', 'Year', 'Month', 'MaPP_Tool', 'Subcategory', 'OBS_Tightening']]\n",
    "df_main_tools.head()\n"
   ]
  },
  {
   "cell_type": "code",
   "execution_count": 12,
   "metadata": {},
   "outputs": [
    {
     "data": {
      "text/html": [
       "<div>\n",
       "<style scoped>\n",
       "    .dataframe tbody tr th:only-of-type {\n",
       "        vertical-align: middle;\n",
       "    }\n",
       "\n",
       "    .dataframe tbody tr th {\n",
       "        vertical-align: top;\n",
       "    }\n",
       "\n",
       "    .dataframe thead th {\n",
       "        text-align: right;\n",
       "    }\n",
       "</style>\n",
       "<table border=\"1\" class=\"dataframe\">\n",
       "  <thead>\n",
       "    <tr style=\"text-align: right;\">\n",
       "      <th></th>\n",
       "      <th>iso2</th>\n",
       "      <th>Year</th>\n",
       "      <th>Month</th>\n",
       "      <th>MaPP_Tool</th>\n",
       "      <th>Subcategory</th>\n",
       "      <th>OBS_Tightening</th>\n",
       "    </tr>\n",
       "  </thead>\n",
       "  <tbody>\n",
       "    <tr>\n",
       "      <th>0</th>\n",
       "      <td>AL</td>\n",
       "      <td>1990</td>\n",
       "      <td>1</td>\n",
       "      <td>Capital</td>\n",
       "      <td>Gen</td>\n",
       "      <td>0.0</td>\n",
       "    </tr>\n",
       "    <tr>\n",
       "      <th>1</th>\n",
       "      <td>AL</td>\n",
       "      <td>1990</td>\n",
       "      <td>2</td>\n",
       "      <td>Capital</td>\n",
       "      <td>Gen</td>\n",
       "      <td>0.0</td>\n",
       "    </tr>\n",
       "    <tr>\n",
       "      <th>2</th>\n",
       "      <td>AL</td>\n",
       "      <td>1990</td>\n",
       "      <td>3</td>\n",
       "      <td>Capital</td>\n",
       "      <td>Gen</td>\n",
       "      <td>0.0</td>\n",
       "    </tr>\n",
       "    <tr>\n",
       "      <th>3</th>\n",
       "      <td>AL</td>\n",
       "      <td>1990</td>\n",
       "      <td>4</td>\n",
       "      <td>Capital</td>\n",
       "      <td>Gen</td>\n",
       "      <td>0.0</td>\n",
       "    </tr>\n",
       "    <tr>\n",
       "      <th>4</th>\n",
       "      <td>AL</td>\n",
       "      <td>1990</td>\n",
       "      <td>5</td>\n",
       "      <td>Capital</td>\n",
       "      <td>Gen</td>\n",
       "      <td>0.0</td>\n",
       "    </tr>\n",
       "  </tbody>\n",
       "</table>\n",
       "</div>"
      ],
      "text/plain": [
       "  iso2  Year  Month MaPP_Tool Subcategory  OBS_Tightening\n",
       "0   AL  1990      1   Capital         Gen             0.0\n",
       "1   AL  1990      2   Capital         Gen             0.0\n",
       "2   AL  1990      3   Capital         Gen             0.0\n",
       "3   AL  1990      4   Capital         Gen             0.0\n",
       "4   AL  1990      5   Capital         Gen             0.0"
      ]
     },
     "execution_count": 12,
     "metadata": {},
     "output_type": "execute_result"
    }
   ],
   "source": [
    "# サブカテゴリ付きのカラム抽出\n",
    "subcat_tool_cols = [\n",
    "    col for col in df_mapp_t.columns \n",
    "    if any(suffix in col for suffix in ['_HH_T', '_Corp_T', '_Gen_T', '_FX_T', '_FCD_T'])\n",
    "]\n",
    "\n",
    "# ロング形式に変換\n",
    "df_subcat_long = df_mapp_t.melt(\n",
    "    id_vars=['iso2', 'Year', 'Month'],\n",
    "    value_vars=subcat_tool_cols,\n",
    "    var_name='MaPP_Tool_Full',\n",
    "    value_name='OBS_Tightening'\n",
    ")\n",
    "\n",
    "# MaPP_Tool, Subcategory に分解（例：Capital_HH_T → Capital / HH）\n",
    "df_subcat_long[['MaPP_Tool', 'Subcategory']] = df_subcat_long['MaPP_Tool_Full'].str.extract(r'(\\w+?)_(HH|Corp|Gen|FX|FCD)_T')\n",
    "\n",
    "# 整形\n",
    "df_subcat_tools = df_subcat_long[['iso2', 'Year', 'Month', 'MaPP_Tool', 'Subcategory', 'OBS_Tightening']]\n",
    "df_subcat_tools.head()\n"
   ]
  },
  {
   "cell_type": "code",
   "execution_count": 13,
   "metadata": {},
   "outputs": [],
   "source": [
    "# 月を四半期に変換\n",
    "df_main_tools['Quarter'] = df_main_tools['Month'].apply(lambda m: f\"Q{((int(m)-1)//3)+1}\")\n",
    "\n",
    "# 四半期キー列を作成\n",
    "df_main_tools['Year_Quarter'] = df_main_tools['Year'].astype(str) + df_main_tools['Quarter']\n"
   ]
  },
  {
   "cell_type": "code",
   "execution_count": 14,
   "metadata": {},
   "outputs": [],
   "source": [
    "# 四半期内の合計値（何回引き締めがあったか）\n",
    "df_quarterly_agg = (\n",
    "    df_main_tools\n",
    "    .groupby(['iso2', 'MaPP_Tool', 'Year_Quarter'], as_index=False)\n",
    "    .agg({'OBS_Tightening': 'sum'})\n",
    ")\n",
    "\n",
    "# 列名変更（明示）\n",
    "df_quarterly_agg = df_quarterly_agg.rename(columns={'OBS_Tightening': 'OBS_Tightening_Aggregated'})\n"
   ]
  },
  {
   "cell_type": "code",
   "execution_count": 15,
   "metadata": {},
   "outputs": [],
   "source": [
    "# 四半期内に1回でも引き締めがあったら 1\n",
    "df_quarterly_bin = (\n",
    "    df_main_tools\n",
    "    .groupby(['iso2', 'MaPP_Tool', 'Year_Quarter'], as_index=False)\n",
    "    .agg({'OBS_Tightening': 'max'})\n",
    ")\n",
    "\n",
    "df_quarterly_bin = df_quarterly_bin.rename(columns={'OBS_Tightening': 'OBS_Tightening_Binary'})\n"
   ]
  },
  {
   "cell_type": "code",
   "execution_count": 16,
   "metadata": {},
   "outputs": [
    {
     "name": "stdout",
     "output_type": "stream",
     "text": [
      "✅ 四半期データ（合計 & バイナリ）をそれぞれ保存しました。\n"
     ]
    }
   ],
   "source": [
    "# CSVとして保存\n",
    "df_quarterly_agg.to_csv('iMaPP_main_tools_quarterly_agg.csv', index=False, encoding='utf-8-sig')\n",
    "df_quarterly_bin.to_csv('iMaPP_main_tools_quarterly_bin.csv', index=False, encoding='utf-8-sig')\n",
    "\n",
    "print(\"✅ 四半期データ（合計 & バイナリ）をそれぞれ保存しました。\")\n"
   ]
  },
  {
   "cell_type": "code",
   "execution_count": null,
   "metadata": {},
   "outputs": [],
   "source": []
  }
 ],
 "metadata": {
  "kernelspec": {
   "display_name": "Python 3",
   "language": "python",
   "name": "python3"
  },
  "language_info": {
   "codemirror_mode": {
    "name": "ipython",
    "version": 3
   },
   "file_extension": ".py",
   "mimetype": "text/x-python",
   "name": "python",
   "nbconvert_exporter": "python",
   "pygments_lexer": "ipython3",
   "version": "3.8.3"
  }
 },
 "nbformat": 4,
 "nbformat_minor": 4
}
